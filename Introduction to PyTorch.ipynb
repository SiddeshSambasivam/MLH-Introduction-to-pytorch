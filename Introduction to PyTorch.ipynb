{
 "cells": [
  {
   "cell_type": "markdown",
   "id": "a69b4760",
   "metadata": {},
   "source": [
    "<p align=\"center\">\n",
    "    <img src=\"./pytorch-logo.png\" width=100>\n",
    "</p>\n",
    "\n",
    "<h2 align=\"center\">MLH Show & Tell: Introduction to PyTorch</h2>\n",
    "\n",
    "<br/>\n",
    "\n",
    "<div align=\"center\">\n",
    "    This notebook gives a introduction to pytorch. We'll be discussing about tensors, usage of computational graphs to calculate gradients and build a simple linear model to get an understanding of the workflow in PyTorch.\n",
    "</div>\n",
    "\n",
    "<div>\n",
    "    <h3>Topics Covered</h3>\n",
    "    <ol>\n",
    "        <li>Tensors</li>\n",
    "        <li>Computational Graphs - Autograd</li>\n",
    "        <li>Datasets & Dataloaders</li>\n",
    "        <li>Linear Regression</li>\n",
    "        <li>Simple Neural Network</li>\n",
    "    </ol>\n",
    "</div>"
   ]
  },
  {
   "cell_type": "code",
   "execution_count": null,
   "id": "e5c14b91",
   "metadata": {},
   "outputs": [],
   "source": [
    "import os\n",
    "\n",
    "import torch\n",
    "import numpy as np\n",
    "import pandas as pd\n",
    "\n",
    "from sklearn.model_selection import train_test_split"
   ]
  },
  {
   "cell_type": "markdown",
   "id": "e243dbbe",
   "metadata": {},
   "source": [
    "## 1. Tensors"
   ]
  },
  {
   "cell_type": "markdown",
   "id": "3d5292fd",
   "metadata": {},
   "source": [
    "### 1.1 Introduction"
   ]
  },
  {
   "cell_type": "code",
   "execution_count": null,
   "id": "9a65baf0",
   "metadata": {},
   "outputs": [],
   "source": [
    "# What is a tensor?\n",
    "# Difference b/w tensor and Tensor\n",
    "\n",
    "print(torch.Tensor(), torch.tensor([1,2,3]))\n",
    "\n",
    "a = torch.tensor([[1], [2], [3]], dtype=float, device='cpu')\n",
    "b = torch.tensor([[4], [5], [6]], dtype=float, device='cpu')\n",
    "\n",
    "a,b"
   ]
  },
  {
   "cell_type": "code",
   "execution_count": null,
   "id": "f208ce53",
   "metadata": {},
   "outputs": [],
   "source": [
    "torch.ones((1,4,2)) # np.ones((1,4,2))\n",
    "torch.zeros((1,4,2))\n",
    "\n",
    "torch.rand(1,4)"
   ]
  },
  {
   "cell_type": "code",
   "execution_count": null,
   "id": "ee730ab9",
   "metadata": {},
   "outputs": [],
   "source": [
    "print(a.device, a.shape, a.dtype, sep='\\n')"
   ]
  },
  {
   "cell_type": "markdown",
   "id": "42979e2b",
   "metadata": {},
   "source": [
    "### 1.2 Coversions"
   ]
  },
  {
   "cell_type": "code",
   "execution_count": null,
   "id": "e0689c64",
   "metadata": {},
   "outputs": [],
   "source": [
    "# Converting from array to tensor\n",
    "torch.from_numpy(np.array([1,2,3,4], dtype=float))\n",
    "\n",
    "# Converting from tensor to array\n",
    "a.numpy()\n",
    "\n",
    "# move tensor to device\n",
    "a.to('cpu')"
   ]
  },
  {
   "cell_type": "markdown",
   "id": "e30fef25",
   "metadata": {},
   "source": [
    "### 1.3 Tensor Operations"
   ]
  },
  {
   "cell_type": "code",
   "execution_count": null,
   "id": "5364a0ad",
   "metadata": {},
   "outputs": [],
   "source": [
    "# Multiplication\n",
    "\n",
    "print(\"Multiplication operator\")\n",
    "print(a@b.T) # 3x1 @ 1x3 -> 3x3\n",
    "print()\n",
    "\n",
    "print(\"Multiplication matmul\")\n",
    "print(torch.matmul(a, b.T))\n",
    "print()\n",
    "\n",
    "print(\"Transpose\")\n",
    "print(a.T) # Transpose\n",
    "print()\n",
    "\n",
    "# Mean, Sum\n",
    "# axis = 0 is along row and axis =1 is along column\n",
    "print(\"Sum and Mean\")\n",
    "print(a.sum(axis=0), a.mean()) \n",
    "print()\n",
    "\n",
    "print(\"Concat tensors\")\n",
    "print(torch.cat([a,b], axis=0))\n",
    "print()\n",
    "\n",
    "print(a.T) # Transpose"
   ]
  },
  {
   "cell_type": "markdown",
   "id": "3a22cbb2",
   "metadata": {},
   "source": [
    "## 2. Computational Graphs - Autograd\n",
    "\n",
    "For more detailed explanation on the usage of autograd, please refer to the [official documentation](https://pytorch.org/docs/stable/notes/autograd.html).\n",
    "\n",
    "<div align='center'>\n",
    "    <font size=\"5\">$y = (a+b) * c$</font>\n",
    "</div>\n"
   ]
  },
  {
   "cell_type": "code",
   "execution_count": null,
   "id": "be8303f2",
   "metadata": {},
   "outputs": [],
   "source": [
    "a = torch.tensor(\n",
    "    [2],\n",
    "    dtype=float,\n",
    "    device='cpu',\n",
    ")\n",
    "\n",
    "b = torch.tensor(\n",
    "    [5],\n",
    "    dtype=float,\n",
    "    device='cpu',\n",
    "    requires_grad=True\n",
    ")\n",
    "\n",
    "c = torch.tensor(\n",
    "    [3], \n",
    "    dtype=float,\n",
    "    device='cpu',\n",
    "    requires_grad=True\n",
    ")"
   ]
  },
  {
   "cell_type": "code",
   "execution_count": null,
   "id": "88269231",
   "metadata": {},
   "outputs": [],
   "source": [
    "y = (a+b)*c\n",
    "y"
   ]
  },
  {
   "cell_type": "code",
   "execution_count": null,
   "id": "675b0511",
   "metadata": {},
   "outputs": [],
   "source": [
    "y.backward()"
   ]
  },
  {
   "cell_type": "code",
   "execution_count": null,
   "id": "8593ba47",
   "metadata": {},
   "outputs": [],
   "source": [
    "a.grad, b.grad, c.grad"
   ]
  },
  {
   "cell_type": "markdown",
   "id": "9549a998",
   "metadata": {},
   "source": [
    "## 3. Datasets & Data Loaders\n",
    "\n",
    "For the sake of simplicity, we use a very small subset of a dataset. \n",
    "\n",
    "<b>Goal:</b> Predict the yield of apples and oranges given the temperature, rainfall and humidty.\n",
    "\n",
    "For any given task in PyTorch, its always a good practice to great a dataset class and use a data loader to batch inputs. \n",
    "\n",
    "1. Create a dataset class\n",
    "2. Use a data loader to batch the inputs\n"
   ]
  },
  {
   "cell_type": "code",
   "execution_count": null,
   "id": "8c8cf0b9",
   "metadata": {},
   "outputs": [],
   "source": [
    "# Features: (temp, rainfall, humidity)\n",
    "inputs = np.array([\n",
    "    [73, 67, 43],  [91, 88, 64], [87, 134, 58], \n",
    "    [102, 43, 37], [69, 96, 70], [73, 67, 43], \n",
    "    [91, 88, 64], [87, 134, 58], [102, 43, 37], \n",
    "    [69, 96, 70], [73, 67, 43], [91, 88, 64], \n",
    "    [87, 134, 58], [102, 43, 37], [69, 96, 70]], \n",
    "    dtype='float32'\n",
    ")\n",
    "\n",
    "# Targets (apples, oranges)\n",
    "targets = np.array([\n",
    "        [56, 70], [81, 101], [119, 133], [22, 37], [103, 119], \n",
    "        [56, 70], [81, 101], [119, 133], [22, 37], [103, 119], \n",
    "        [56, 70], [81, 101], [119, 133], [22, 37], [103, 119]\n",
    "    ],\n",
    "    dtype='float32'\n",
    ")\n",
    "\n",
    "x_train, x_test, y_train, y_test = train_test_split(inputs, targets)"
   ]
  },
  {
   "cell_type": "code",
   "execution_count": null,
   "id": "808601ad",
   "metadata": {},
   "outputs": [],
   "source": [
    "len(inputs), len(targets)"
   ]
  },
  {
   "cell_type": "markdown",
   "id": "1313d383",
   "metadata": {},
   "source": [
    "### 3.1 Create Dataset"
   ]
  },
  {
   "cell_type": "code",
   "execution_count": null,
   "id": "fcf6503a",
   "metadata": {},
   "outputs": [],
   "source": [
    "class Dataset:\n",
    "    \n",
    "    def __init__(self, features, targets):\n",
    "        self.features = features\n",
    "        self.targets = targets\n",
    "    \n",
    "    def __len__(self,):\n",
    "        return self.features.shape[0]\n",
    "    \n",
    "    def __getitem__(self,index):\n",
    "        \n",
    "        data = self.features[index]\n",
    "        target = self.targets[index]\n",
    "        \n",
    "        return {\n",
    "            \"features\": torch.tensor(data, dtype=torch.float,),\n",
    "            \"target\": torch.tensor(target, dtype=torch.float,),\n",
    "        }    "
   ]
  },
  {
   "cell_type": "code",
   "execution_count": null,
   "id": "5722fb5a",
   "metadata": {},
   "outputs": [],
   "source": [
    "train_dataset = Dataset(x_train, y_train)\n",
    "test_dataset = Dataset(x_test, y_test)"
   ]
  },
  {
   "cell_type": "code",
   "execution_count": null,
   "id": "e00120ca",
   "metadata": {},
   "outputs": [],
   "source": [
    "train_dataset[0], test_dataset[0]"
   ]
  },
  {
   "cell_type": "markdown",
   "id": "bf9f2b44",
   "metadata": {},
   "source": [
    "### 3.2 Data Loader"
   ]
  },
  {
   "cell_type": "code",
   "execution_count": null,
   "id": "e818a2ba",
   "metadata": {},
   "outputs": [],
   "source": [
    "train_dataloader = torch.utils.data.DataLoader(\n",
    "    train_dataset, \n",
    "    batch_size=2,\n",
    "    num_workers=2,\n",
    ")\n",
    "\n",
    "test_dataloader = torch.utils.data.DataLoader(\n",
    "    test_dataset, \n",
    "    batch_size=2,\n",
    "    num_workers=2,\n",
    ")"
   ]
  },
  {
   "cell_type": "markdown",
   "id": "b20a301d",
   "metadata": {},
   "source": [
    "## 4. Linear Regression"
   ]
  },
  {
   "cell_type": "code",
   "execution_count": null,
   "id": "49cedf61",
   "metadata": {},
   "outputs": [],
   "source": [
    "w = torch.randn(2, 3, requires_grad=True)\n",
    "b = torch.randn(2, requires_grad=True)\n",
    "\n",
    "lr_rate = 0.001\n",
    "epochs = 20\n",
    "\n",
    "\n",
    "def model(x):\n",
    "    return x @ w.t() + b\n",
    "    "
   ]
  },
  {
   "cell_type": "code",
   "execution_count": null,
   "id": "88bbe8e9",
   "metadata": {},
   "outputs": [],
   "source": [
    "model(torch.from_numpy(inputs))"
   ]
  },
  {
   "cell_type": "code",
   "execution_count": null,
   "id": "3fc8c92b",
   "metadata": {},
   "outputs": [],
   "source": [
    "def mse(t1, t2, ):\n",
    "    diff = t1 - t2\n",
    "    mse_loss = torch.sum(diff * diff) / diff.numel()\n",
    "    reg = w.sum() * (0.01/(2*diff.numel()))\n",
    "    \n",
    "    loss = mse_loss + reg\n",
    "    \n",
    "    return loss "
   ]
  },
  {
   "cell_type": "code",
   "execution_count": null,
   "id": "e0383f98",
   "metadata": {},
   "outputs": [],
   "source": [
    "for epoch in range(epochs):\n",
    "    \n",
    "    epoch_loss=0 \n",
    "    for sample in train_dataloader:\n",
    "        \n",
    "        x = sample['features']\n",
    "        y = sample['target']\n",
    "        \n",
    "        output = model(x)\n",
    "        \n",
    "        loss = mse(output, y)\n",
    "        loss.backward()\n",
    "        \n",
    "        epoch_loss += loss.item()\n",
    "        \n",
    "        with torch.no_grad():\n",
    "            w -= w.grad * 1e-5\n",
    "            b -= b.grad * 1e-5\n",
    "            w.grad.zero_()\n",
    "            b.grad.zero_()\n",
    "    \n",
    "    print(epoch, epoch_loss)\n",
    "    "
   ]
  },
  {
   "cell_type": "code",
   "execution_count": null,
   "id": "34c9b8f2",
   "metadata": {},
   "outputs": [],
   "source": [
    "w, b"
   ]
  },
  {
   "cell_type": "code",
   "execution_count": null,
   "id": "bc69d349",
   "metadata": {},
   "outputs": [],
   "source": [
    "for test_inputs in test_dataloader:\n",
    "\n",
    "    x = sample['features']\n",
    "    y = sample['target']\n",
    "    \n",
    "    print(sample, '\\n')\n",
    "    print(f'True value: {y.numpy()[0]}; Prediction: {model(x).detach().numpy()[0]}')\n",
    "    break\n",
    "    \n",
    "    "
   ]
  },
  {
   "cell_type": "code",
   "execution_count": null,
   "id": "c31c28f8",
   "metadata": {},
   "outputs": [],
   "source": [
    "len(test_dataloader)"
   ]
  },
  {
   "cell_type": "markdown",
   "id": "c1a53063",
   "metadata": {},
   "source": [
    "## 5. Neural Networks"
   ]
  },
  {
   "cell_type": "code",
   "execution_count": null,
   "id": "fcff7852",
   "metadata": {},
   "outputs": [],
   "source": [
    "import torch.nn.functional as F"
   ]
  },
  {
   "cell_type": "code",
   "execution_count": null,
   "id": "604fd9f3",
   "metadata": {},
   "outputs": [],
   "source": [
    "\n",
    "class NN(torch.nn.Module):\n",
    "    \n",
    "    def __init__(self):\n",
    "        \n",
    "        super().__init__()\n",
    "        \n",
    "        self.linear1 = nn.Linear(3, 3)\n",
    "        self.act1 = torch.nn.ReLU() # Activation function\n",
    "        self.linear2 = torch.nn.Linear(3, 2)\n",
    "    \n",
    "    def forward(self, x):\n",
    "        x = self.linear1(x)\n",
    "        x = self.act1(x)\n",
    "        x = self.linear2(x)\n",
    "        return x"
   ]
  },
  {
   "cell_type": "code",
   "execution_count": null,
   "id": "7a8cd3db",
   "metadata": {},
   "outputs": [],
   "source": [
    "model.linear.weight, model.linear.bias"
   ]
  },
  {
   "cell_type": "code",
   "execution_count": null,
   "id": "2b144d6c",
   "metadata": {},
   "outputs": [],
   "source": [
    "loss_fn = F.mse_loss\n",
    "opt = torch.optim.SGD(model.parameters(), lr=1e-5)\n"
   ]
  },
  {
   "cell_type": "code",
   "execution_count": null,
   "id": "77124528",
   "metadata": {},
   "outputs": [],
   "source": [
    "for epoch in range(epochs):\n",
    "    \n",
    "    for sample in train_dataloader:\n",
    "        \n",
    "        x,y = sample['features'], sample['target']\n",
    "        \n",
    "        output = model(x)\n",
    "        \n",
    "        loss = loss_fn(output, y)\n",
    "        \n",
    "        loss.backward()\n",
    "        opt.step()\n",
    "        opt.zero_grad()\n",
    "        \n",
    "    print('Training loss: ', loss.detach().numpy())\n",
    "    "
   ]
  },
  {
   "cell_type": "code",
   "execution_count": null,
   "id": "012390fa",
   "metadata": {},
   "outputs": [],
   "source": [
    "for test_inputs in test_dataloader:\n",
    "\n",
    "    x = sample['features']\n",
    "    y = sample['target']\n",
    "    \n",
    "    print(sample, '\\n')\n",
    "    print(f'True value: {y.numpy()[0]}; Prediction: {model(x).detach().numpy()[0]}')\n",
    "    break\n",
    "    \n",
    "    "
   ]
  },
  {
   "cell_type": "markdown",
   "id": "8069eb4e",
   "metadata": {},
   "source": [
    "## Common Problems\n",
    "\n",
    "1. Always move all the inputs to the same device (`cpu` or `gpu`)\n",
    "    ```python\n",
    "    a.to('cpu')\n",
    "    ```\n",
    "2. `TypeError: unsupported operand type(s) for *: 'NoneType' and 'float'`\n",
    "    \n",
    "   Make sure that `requires_grad=True`\n"
   ]
  },
  {
   "cell_type": "markdown",
   "id": "cb29273b",
   "metadata": {},
   "source": [
    "## Personal Tips\n",
    "\n",
    "1. Don't do lots and lots of courses without actually practicing anything.\n",
    "\n",
    "\n",
    "2. Try to work on a new project every month with a new task (Regression, classification, clustering, recommendation, etc ...)\n",
    "\n",
    "\n",
    "3. Particpiate in kaggle competitions. Read and understand other notebooks and methods.\n",
    "\n",
    "\n",
    "4. Read review papers\n",
    "\n",
    "\n",
    "-----"
   ]
  }
 ],
 "metadata": {
  "kernelspec": {
   "display_name": "Python 3",
   "language": "python",
   "name": "python3"
  },
  "language_info": {
   "codemirror_mode": {
    "name": "ipython",
    "version": 3
   },
   "file_extension": ".py",
   "mimetype": "text/x-python",
   "name": "python",
   "nbconvert_exporter": "python",
   "pygments_lexer": "ipython3",
   "version": "3.7.9"
  }
 },
 "nbformat": 4,
 "nbformat_minor": 5
}
